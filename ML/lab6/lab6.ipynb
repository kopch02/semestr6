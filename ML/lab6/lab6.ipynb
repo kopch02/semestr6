{
 "cells": [
  {
   "attachments": {},
   "cell_type": "markdown",
   "metadata": {},
   "source": [
    "https://colab.research.google.com/drive/17c9TIwFHJRB__lk2RnQ5L3bKrizsf_Lt?usp=sharing\n",
    "\n",
    "\n",
    "ссылка на коллаб, тут всё работает"
   ]
  },
  {
   "cell_type": "code",
   "execution_count": null,
   "metadata": {},
   "outputs": [],
   "source": [
    "import cv2\n",
    "import numpy as np\n",
    "import matplotlib.pyplot as plt\n",
    "from matplotlib.pyplot import hist\n",
    "from PIL import Image"
   ]
  },
  {
   "attachments": {},
   "cell_type": "markdown",
   "metadata": {},
   "source": [
    "1. Для всех изображений примените фильтр, фильтр Гаусса и медианный фильтр с размером маски (ядра) 3x3, 5x5, 7x7, 9x9. Сравните полученные результаты, поясните для каких изображений лучше применять фильтр Гаусса,медианный или усредняющий фильтр. Проанализируйте гистограммы оригинальных и полученных изображений. Применима ли гистограмма для анализа проведенных преобразований?"
   ]
  },
  {
   "cell_type": "code",
   "execution_count": 4,
   "metadata": {},
   "outputs": [
    {
     "ename": "",
     "evalue": "",
     "output_type": "error",
     "traceback": [
      "\u001b[1;31mПри выполнении кода в текущей ячейке или предыдущей ячейке ядро аварийно завершило работу. Проверьте код в ячейках, чтобы определить возможную причину сбоя. Щелкните <a href=\"https://aka.ms/vscodeJupyterKernelCrash\">здесь</a> для получения дополнительных сведений. Подробнее см. в <a href='command:jupyter.viewOutput'>журнале Jupyter</a>."
     ]
    }
   ],
   "source": [
    "img1 = cv2.imread('img/Детский рисунок.png')\n",
    "img2 = cv2.imread('img/Coins.jpg')\n",
    "img3 = cv2.imread('img/arch.jpg')\n",
    "img4 = cv2.imread('img/rice.jpg')\n",
    "cv2.imshow(\"1\",img2)"
   ]
  },
  {
   "cell_type": "code",
   "execution_count": 5,
   "metadata": {},
   "outputs": [],
   "source": [
    "def draw_image_3(image, imageNew, n):\n",
    "    plt.figure(figsize=(16,13), dpi=100)\n",
    "    plt.subplot2grid((3,3), (0,0)) #1 - исходное изображение\n",
    "    plt.title('Исходное изображение')\n",
    "    plt.imshow(image) #Вывод\n",
    "    plt.subplot2grid((3,3), (0,1)) #2 - преобразованное изображение\n",
    "    plt.title('Преобразованное изображение')\n",
    "    plt.imshow(imageNew) #Вывод\n",
    "    #Гистограммы двух изображений\n",
    "    plt.subplot2grid((3,3), (0,2))\n",
    "    plt.hist(np.ravel(image), bins=256, label=['Оригинал'])\n",
    "    plt.hist(np.ravel(imageNew), bins=256, label=['Результат'])\n",
    "    plt.legend()\n",
    "    plt.title('n = %d' % n)\n",
    "    plt.show()\n"
   ]
  },
  {
   "cell_type": "code",
   "execution_count": 6,
   "metadata": {},
   "outputs": [],
   "source": [
    "def my_filter(filter_fun, image):\n",
    "    parametrs = [3,5,7,9] #Значения размера ядра\n",
    "    #Применение фильтра для изображения\n",
    "    for parametr in parametrs:\n",
    "        draw_image_3(image, filter_fun(image, (parametr,parametr),0), parametr)\n"
   ]
  },
  {
   "cell_type": "code",
   "execution_count": 15,
   "metadata": {},
   "outputs": [
    {
     "ename": "error",
     "evalue": "OpenCV(4.7.0) D:\\a\\opencv-python\\opencv-python\\opencv\\modules\\imgproc\\src\\smooth.dispatch.cpp:617: error: (-215:Assertion failed) !_src.empty() in function 'cv::GaussianBlur'\n",
     "output_type": "error",
     "traceback": [
      "\u001b[1;31m---------------------------------------------------------------------------\u001b[0m",
      "\u001b[1;31merror\u001b[0m                                     Traceback (most recent call last)",
      "Cell \u001b[1;32mIn[15], line 1\u001b[0m\n\u001b[1;32m----> 1\u001b[0m my_filter(cv2\u001b[39m.\u001b[39;49mGaussianBlur, img1)\n\u001b[0;32m      2\u001b[0m my_filter(cv2\u001b[39m.\u001b[39mGaussianBlur, img2)\n\u001b[0;32m      3\u001b[0m my_filter(cv2\u001b[39m.\u001b[39mGaussianBlur, img3)\n",
      "Cell \u001b[1;32mIn[6], line 5\u001b[0m, in \u001b[0;36mmy_filter\u001b[1;34m(filter_fun, image)\u001b[0m\n\u001b[0;32m      3\u001b[0m \u001b[39m#Применение фильтра для изображения\u001b[39;00m\n\u001b[0;32m      4\u001b[0m \u001b[39mfor\u001b[39;00m parametr \u001b[39min\u001b[39;00m parametrs:\n\u001b[1;32m----> 5\u001b[0m     draw_image_3(image, filter_fun(image, (parametr,parametr),\u001b[39m0\u001b[39;49m), parametr)\n",
      "\u001b[1;31merror\u001b[0m: OpenCV(4.7.0) D:\\a\\opencv-python\\opencv-python\\opencv\\modules\\imgproc\\src\\smooth.dispatch.cpp:617: error: (-215:Assertion failed) !_src.empty() in function 'cv::GaussianBlur'\n"
     ]
    }
   ],
   "source": [
    "my_filter(cv2.GaussianBlur, img1)\n",
    "my_filter(cv2.GaussianBlur, img2)\n",
    "my_filter(cv2.GaussianBlur, img3)\n",
    "my_filter(cv2.GaussianBlur, img4)"
   ]
  },
  {
   "cell_type": "code",
   "execution_count": null,
   "metadata": {},
   "outputs": [],
   "source": [
    "def median_filter(image):\n",
    "    parametrs = [3,5,7,9] #Значения размера ядра\n",
    "    #Применение фильтра для изображения\n",
    "    for parametr in parametrs:\n",
    "        draw_image_3(image, cv2.medianBlur(image, parametr), parametr)\n"
   ]
  },
  {
   "cell_type": "code",
   "execution_count": null,
   "metadata": {},
   "outputs": [],
   "source": [
    "median_filter(img1)\n",
    "median_filter(img2)\n",
    "median_filter(img3)\n",
    "median_filter(img4)"
   ]
  },
  {
   "attachments": {},
   "cell_type": "markdown",
   "metadata": {},
   "source": [
    "2. С использованием filter2D реализуйте фильтры Превитта, Собеля и Робертса. Что можно сказать про результаты фильтрации? Что можно сказать про полученные изображения на основе анализа гистограмм?"
   ]
  },
  {
   "cell_type": "code",
   "execution_count": null,
   "metadata": {},
   "outputs": [],
   "source": [
    "def SobelFilter1(image):\n",
    "    SobelMtx = [[-1,0,1],[-2,0,2],[-1,0,1]]# ядро фильтра Собеля\n",
    "    kernel = np.array(SobelMtx, np.float32)# приведение ядра фильтра к типу float\n",
    "    draw_image_3(image, cv2.filter2D(image, -1, kernel), 3)# Первый параметр cv2.filter2D — входное изображение, второй — желаемая глуб"
   ]
  },
  {
   "cell_type": "code",
   "execution_count": null,
   "metadata": {},
   "outputs": [],
   "source": [
    "SobelFilter1(img1)\n",
    "SobelFilter1(img2)\n",
    "SobelFilter1(img3)\n",
    "SobelFilter1(img4)"
   ]
  }
 ],
 "metadata": {
  "kernelspec": {
   "display_name": "Python 3",
   "language": "python",
   "name": "python3"
  },
  "language_info": {
   "codemirror_mode": {
    "name": "ipython",
    "version": 3
   },
   "file_extension": ".py",
   "mimetype": "text/x-python",
   "name": "python",
   "nbconvert_exporter": "python",
   "pygments_lexer": "ipython3",
   "version": "3.10.10"
  },
  "orig_nbformat": 4
 },
 "nbformat": 4,
 "nbformat_minor": 2
}
