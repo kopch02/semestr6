{
 "cells": [
  {
   "attachments": {},
   "cell_type": "markdown",
   "metadata": {},
   "source": [
    "Задание 1\n",
    "\n",
    "Какое слово написано? нноороосссоообьбтп\n",
    "Напишите программный код для подсчёта количества вхождений каждой\n",
    "буквы в слово и постройте гистограмму числа вхождений букв. Сделайте\n",
    "подписи к рисунку и осям. В подпись к рисунку должно входить\n",
    "определенное Вами слово."
   ]
  },
  {
   "cell_type": "code",
   "execution_count": 4,
   "metadata": {},
   "outputs": [],
   "source": [
    "import matplotlib.pyplot as plt\n",
    "import collections"
   ]
  },
  {
   "cell_type": "code",
   "execution_count": 5,
   "metadata": {},
   "outputs": [
    {
     "name": "stdout",
     "output_type": "stream",
     "text": [
      "Counter({'о': 7, 'с': 3, 'н': 2, 'б': 2, 'р': 1, 'ь': 1, 'т': 1, 'п': 1})\n"
     ]
    }
   ],
   "source": [
    "s = 'нноороосссоообьбтп'\n",
    "c = collections.Counter(s)\n",
    "print(c)"
   ]
  },
  {
   "cell_type": "code",
   "execution_count": 7,
   "metadata": {},
   "outputs": [
    {
     "data": {
      "image/png": "[encoded data removed]",
      "text/plain": [
       "<Figure size 640x480 with 1 Axes>"
      ]
     },
     "metadata": {},
     "output_type": "display_data"
    }
   ],
   "source": [
    "x = list(c.keys())\n",
    "y = list(c.values())\n",
    "plt.bar(x, y)\n",
    "plt.show()"
   ]
  },
  {
   "attachments": {},
   "cell_type": "markdown",
   "metadata": {},
   "source": [
    "Задание 2\n",
    "\n",
    "Разработайте приложение для поиска анаграмм в тексте. На входе у\n",
    "приложения – текстовый файл, на выходе – списки анаграмм.\n",
    "Анагра́мма (от греч. ανα- «пере» + γράμμα «буква») – литературный приём,\n",
    "состоящий в перестановке букв или звуков определённого слова (или\n",
    "словосочетания), что в результате даёт другое слово или словосочетание.\n",
    "Входной текст:\n",
    "\n",
    "Аз есмь строка, живу я, мерой остр.\n",
    "\n",
    "За семь морей ростка я вижу рост.\n",
    "\n",
    "Я в мире – сирота.\n",
    "\n",
    "Я в Риме – Ариост.\n",
    "\n",
    "Вывод (каждая строка содержит анаграммы):\n",
    "\n",
    "['Аз', 'За']\n",
    "\n",
    "['есмь', 'семь']\n",
    "\n",
    "['строка', 'ростка']\n",
    "\n",
    "['живу', 'вижу']\n",
    "\n",
    "['мерой', 'морей']\n",
    "\n",
    "['остр', 'рост']\n",
    "\n",
    "['мире', 'Риме']\n",
    "\n",
    "['сирота', 'Ариост']\n"
   ]
  },
  {
   "cell_type": "code",
   "execution_count": 22,
   "metadata": {},
   "outputs": [
    {
     "name": "stdout",
     "output_type": "stream",
     "text": [
      "['Аз', 'есмь', 'строка', 'живу', 'я', 'мерой', 'остр', 'За', 'семь', 'морей', 'ростка', 'я', 'вижу', 'рост', 'Я', 'в', 'мире', 'сирота', 'Я', 'в', 'Риме', 'Ариост']\n"
     ]
    }
   ],
   "source": [
    "file = open('text_num_2.txt', 'rt', encoding='utf8')\n",
    "text = file.read().replace(',','').replace('-','').replace('.','').replace('–','').split()\n",
    "print(text)"
   ]
  },
  {
   "cell_type": "code",
   "execution_count": 23,
   "metadata": {},
   "outputs": [
    {
     "name": "stdout",
     "output_type": "stream",
     "text": [
      "['есмь', 'строка', 'живу', 'мерой', 'остр', 'семь', 'морей', 'ростка', 'вижу', 'рост']\n"
     ]
    }
   ],
   "source": [
    "anagrams = []\n",
    "for word_1 in text:\n",
    "    for word_2 in text:\n",
    "        if word_1 != word_2 and (sorted(word_1)==sorted(word_2)):\n",
    "            anagrams.append(word_1)\n",
    "\n",
    "print(anagrams)"
   ]
  },
  {
   "attachments": {},
   "cell_type": "markdown",
   "metadata": {},
   "source": [
    "Задание 3\n",
    "Разработайте приложение, которое принимает на вход текстовый файл\n",
    "(или просто текст) с обычным текстом и выводит этот же текст, но с\n",
    "перемешанными буквами внутри слов. Первая и последняя буквы каждого\n",
    "слова должны остаться на своих местах.\n",
    "Обычный текст:\n",
    "По результатам исследований одного английского университета, не имеет\n",
    "значения, в каком порядке расположены буквы в слове. Главное, чтобы первая и\n",
    "последняя буквы были на месте. Остальные буквы могут следовать в полном\n",
    "беспорядке, все равно текст читается без проблем. Причиной этого является то, что\n",
    "мы не читаем каждую букву по отдельности, а все слово целиком.\n",
    "Примерный результат: По рзелульаттам илссеовадний одонго анлигйсокго\n",
    "унвиертисета, не иеемт занчнеия, в кокам пряокде рсапожолены бкувы в солве.\n",
    "Галвоне, чотбы преавя и пслоендяя бквуы блыи на мсете. Осатьлыне бкувы мгоут\n",
    "селдовтаь в плоонм бсепордяке, все-рвано ткест чтаитсея без побрелм. Пичрионй\n",
    "эгото ялвятеся то, что мы не чиатем кдаужю бкуву по отдльенотси, а все солво\n",
    "цликеом.\n"
   ]
  },
  {
   "cell_type": "code",
   "execution_count": 26,
   "metadata": {},
   "outputs": [
    {
     "name": "stdout",
     "output_type": "stream",
     "text": [
      "['По результатам исследований одного английского университета, не имеет\\n', 'значения, в каком порядке расположены буквы в слове. Главное, чтобы первая и\\n', 'последняя буквы были на месте. Остальные буквы могут следовать в полном\\n', 'беспорядке, все равно текст читается без проблем. Причиной этого является то, что\\n', 'мы не читаем каждую букву по отдельности, а все слово целиком.\\n']\n"
     ]
    }
   ],
   "source": [
    "file = open('text_num_3.txt', 'rt', encoding='utf8')\n",
    "#text = file.read().replace(',','').replace('-','').replace('.','').replace('–','').split()\n",
    "text = file.readlines()\n",
    "print(text)"
   ]
  },
  {
   "cell_type": "code",
   "execution_count": 54,
   "metadata": {},
   "outputs": [
    {
     "name": "stdout",
     "output_type": "stream",
     "text": [
      "По рзааетьутлм иеасдовснлий одгноо аигголкнсйо утесанриивет, не иемет\n",
      "зяенанчи, вв ккаом пяодкре раослеожпны бвкуы вв сеовл. Главено, чтобы паревя ии\n",
      "пнялдсеоя бквуы были на месте. Отсньаыле бвукы могут соатедлвь вв понлом\n",
      "бксееядпро, все ранво тескт чтасеитя без плембро. Пноиичрй этого яслятвея то, что\n",
      "мы не чаетим кдужаю букву по оьидтстлнео, аа все солво цеокилм.\n",
      "\n"
     ]
    }
   ],
   "source": [
    "from random import shuffle\n",
    "result = []\n",
    "for line in text:\n",
    "    line = line.replace('\\n','')\n",
    "    new_line = []\n",
    "    for word in line.split():\n",
    "        word_midle = list(word[1:-1])\n",
    "        shuffle(word_midle)\n",
    "        new_word = word[0] + ''.join(word_midle) + word[-1]\n",
    "        new_line.append(new_word)\n",
    "    new_line[-1] += '\\n'\n",
    "    result.append(' '.join(new_line))\n",
    "print(''.join(result))"
   ]
  }
 ],
 "metadata": {
  "kernelspec": {
   "display_name": "ML",
   "language": "python",
   "name": "python3"
  },
  "language_info": {
   "codemirror_mode": {
    "name": "ipython",
    "version": 3
   },
   "file_extension": ".py",
   "mimetype": "text/x-python",
   "name": "python",
   "nbconvert_exporter": "python",
   "pygments_lexer": "ipython3",
   "version": "3.10.10"
  },
  "orig_nbformat": 4
 },
 "nbformat": 4,
 "nbformat_minor": 2
}
