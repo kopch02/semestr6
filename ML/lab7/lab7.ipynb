{
 "cells": [
  {
   "attachments": {},
   "cell_type": "markdown",
   "metadata": {},
   "source": [
    "https://colab.research.google.com/drive/1SnRtUiHfhE0Z4rIP4NtuVfi2rLG4rAqT?usp=sharing\n"
   ]
  },
  {
   "cell_type": "code",
   "execution_count": 1,
   "metadata": {},
   "outputs": [],
   "source": [
    "import cv2\n",
    "import numpy as np\n",
    "import matplotlib.pyplot as plt\n",
    "from matplotlib.pyplot import hist\n",
    "from PIL import Image"
   ]
  },
  {
   "attachments": {},
   "cell_type": "markdown",
   "metadata": {},
   "source": [
    "1. Откройте изображение Morph.jpg. Примените к немубазовыеморфологические операции (дилатацию и эрозию) с структурными элементами крест, прямоугольник и эллипс (для каждого из нихпопробуйтеразмеры 3x3 и 5х5) и с 1, 3 , 5 итерациями. Сохраните результаты, дайтепояснения к ним."
   ]
  },
  {
   "cell_type": "code",
   "execution_count": null,
   "metadata": {},
   "outputs": [],
   "source": [
    "img = cv2.imread('img/Morph.jpg')"
   ]
  },
  {
   "cell_type": "code",
   "execution_count": 2,
   "metadata": {},
   "outputs": [],
   "source": [
    "def draw_image_3(image, imageNew, n):\n",
    "    plt.figure(figsize=(16,13), dpi=100)\n",
    "    plt.subplot2grid((3,3), (0,0)) #1 - исходное изображение\n",
    "    plt.title('Исходное изображение')\n",
    "    plt.imshow(image) #Вывод\n",
    "    plt.subplot2grid((3,3), (0,1)) #2 - преобразованное изображение\n",
    "    plt.title('Преобразованное изображение')\n",
    "    plt.imshow(imageNew) #Вывод\n",
    "    #Гистограммы двух изображений\n",
    "    plt.subplot2grid((3,3), (0,2))\n",
    "    plt.hist(np.ravel(image), bins=256, label=['Оригинал'])\n",
    "    plt.hist(np.ravel(imageNew), bins=256, label=['Результат'])\n",
    "    plt.legend()\n",
    "    plt.title('n = %d' % n)\n",
    "    plt.show()"
   ]
  },
  {
   "cell_type": "code",
   "execution_count": null,
   "metadata": {},
   "outputs": [],
   "source": [
    "for i in [1,3,5]:\n",
    "    kernel = cv2.getStructuringElement(cv2.MORPH_ELLIPSE, (5,5))\n",
    "    transform_img = cv2.dilate(img, kernel, iterations=i)\n",
    "    draw_image_3(img, transform_img)\n"
   ]
  },
  {
   "cell_type": "code",
   "execution_count": null,
   "metadata": {},
   "outputs": [],
   "source": [
    "for i in [1,3,5]:\n",
    "    kernel = cv2.getStructuringElement(cv2.MORPH_ELLIPSE, (3,3))\n",
    "    transform_img = cv2.dilate(img, kernel, iterations=i)\n",
    "    draw_image_3(img, transform_img)"
   ]
  },
  {
   "cell_type": "code",
   "execution_count": null,
   "metadata": {},
   "outputs": [],
   "source": [
    "for i in [1,3,5]:\n",
    "    kernel = cv2.getStructuringElement(cv2.MORPH_RECT, (5,5))\n",
    "    transform_img = cv2.erode(img, kernel, iterations=i)\n",
    "    draw_image_3(img, transform_img)"
   ]
  },
  {
   "cell_type": "code",
   "execution_count": null,
   "metadata": {},
   "outputs": [],
   "source": [
    "for i in [1,3,5]:\n",
    "    kernel = cv2.getStructuringElement(cv2.MORPH_RECT, (3,3))\n",
    "    transform_img = cv2.erode(img, kernel, iterations=i)\n",
    "    draw_image_3(img, transform_img)"
   ]
  },
  {
   "cell_type": "code",
   "execution_count": null,
   "metadata": {},
   "outputs": [],
   "source": [
    "for i in [1,3,5]:\n",
    "    kernel = cv2.getStructuringElement(cv2.MORPH_CROSS, (5,5))\n",
    "    transform_img = cv2.erode(img, kernel, iterations=i)\n",
    "    draw_image_3(img, transform_img)"
   ]
  },
  {
   "cell_type": "code",
   "execution_count": null,
   "metadata": {},
   "outputs": [],
   "source": [
    "for i in [1,3,5]:\n",
    "    kernel = cv2.getStructuringElement(cv2.MORPH_CROSS, (3,3))\n",
    "    transform_img = cv2.erode(img, kernel, iterations=i)\n",
    "    draw_image_3(img, transform_img)"
   ]
  },
  {
   "attachments": {},
   "cell_type": "markdown",
   "metadata": {},
   "source": [
    "2. Попробуйте сравнить результаты операции закрытия с результатамипоследовательного применения дилатации и эрозии:\n",
    "\n",
    "close(A,B) =er(dil(A,B),B)"
   ]
  },
  {
   "cell_type": "code",
   "execution_count": null,
   "metadata": {},
   "outputs": [],
   "source": []
  },
  {
   "attachments": {},
   "cell_type": "markdown",
   "metadata": {},
   "source": [
    "3. Попробуйте сравнить результаты операции открытия с результатамипоследовательного применения эрозии и дилатации:\n",
    "\n",
    "open(A,B) =dil(er(A,B),B)"
   ]
  },
  {
   "cell_type": "code",
   "execution_count": null,
   "metadata": {},
   "outputs": [],
   "source": []
  },
  {
   "attachments": {},
   "cell_type": "markdown",
   "metadata": {},
   "source": [
    "4. Для всех изображений найдите границы, используя определение:\n",
    "\n",
    "boundary(A,B) = A – er(A,B)"
   ]
  },
  {
   "cell_type": "code",
   "execution_count": null,
   "metadata": {},
   "outputs": [],
   "source": []
  },
  {
   "attachments": {},
   "cell_type": "markdown",
   "metadata": {},
   "source": [
    "5. Подберите структурный элемент, который бы наилучшим образом сглаживал углы на изображениях Morph.jpg и morph2.bmp. Какую из операций Вы использовали при этом и почему?"
   ]
  },
  {
   "cell_type": "code",
   "execution_count": null,
   "metadata": {},
   "outputs": [],
   "source": []
  },
  {
   "attachments": {},
   "cell_type": "markdown",
   "metadata": {},
   "source": [
    "6. С помощью порога бинаризуйте изображение morph3.bmp. Найдите контуры каждого элемента по отдельности (используйте для этого разное значение порога). Выделите несколько объектов на изображении, найдите их контуры. Опишите и сохраните результаты. Какие фильтры Вы выбирали?"
   ]
  },
  {
   "cell_type": "code",
   "execution_count": null,
   "metadata": {},
   "outputs": [],
   "source": []
  },
  {
   "attachments": {},
   "cell_type": "markdown",
   "metadata": {},
   "source": [
    "7. Откройте изображение Fingerprint.jpg. Разработайте и реализуйте последовательность морфологических операций для качественного выделения отпечатка пальца из изображения с одновременным подавлением шумов."
   ]
  },
  {
   "cell_type": "code",
   "execution_count": null,
   "metadata": {},
   "outputs": [],
   "source": []
  }
 ],
 "metadata": {
  "kernelspec": {
   "display_name": "Python 3",
   "language": "python",
   "name": "python3"
  },
  "language_info": {
   "codemirror_mode": {
    "name": "ipython",
    "version": 3
   },
   "file_extension": ".py",
   "mimetype": "text/x-python",
   "name": "python",
   "nbconvert_exporter": "python",
   "pygments_lexer": "ipython3",
   "version": "3.10.10"
  },
  "orig_nbformat": 4
 },
 "nbformat": 4,
 "nbformat_minor": 2
}
