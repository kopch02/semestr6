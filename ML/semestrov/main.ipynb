{
 "cells": [
  {
   "cell_type": "code",
   "execution_count": 15,
   "metadata": {},
   "outputs": [],
   "source": [
    "import pandas as pd\n",
    "from tensorflow import keras \n",
    "from keras.preprocessing.image import ImageDataGenerator\n",
    "import os\n",
    "from keras.models import Sequential\n",
    "from keras.layers import Dense, Flatten, Dropout\n",
    "from keras.layers.convolutional import Conv2D, MaxPooling2D"
   ]
  },
  {
   "cell_type": "code",
   "execution_count": 21,
   "metadata": {},
   "outputs": [],
   "source": [
    "# Установить размер изображений\n",
    "img_width, img_height = 150, 150\n",
    "\n",
    "batch_size = 10\n",
    "\n",
    "#путь к папке с изображениями\n",
    "data_dir = 'symvols'"
   ]
  },
  {
   "cell_type": "code",
   "execution_count": 24,
   "metadata": {},
   "outputs": [],
   "source": [
    "# Создаем пустой DataFrame для хранения информации об изображениях\n",
    "image_df = pd.DataFrame(columns=['filename', 'label'])\n",
    "\n",
    "# Загружаем все файлы изображений из папок классов символов и размечаем их\n",
    "for label in os.listdir(data_dir):\n",
    "    path = os.path.join(data_dir, label)\n",
    "    for file in os.listdir(path):\n",
    "        filename = os.path.join(path, file)\n",
    "        new_row = pd.DataFrame({'filename': [filename], 'label': [label]})\n",
    "        image_df = pd.concat([image_df, new_row], ignore_index=True)\n"
   ]
  },
  {
   "cell_type": "code",
   "execution_count": 26,
   "metadata": {},
   "outputs": [],
   "source": [
    "#разделение датасета на тестовый и тренировочный набор\n",
    "train_df = image_df.sample(frac=0.8, random_state=42)\n",
    "test_df = image_df.drop(train_df.index)"
   ]
  },
  {
   "cell_type": "code",
   "execution_count": 27,
   "metadata": {},
   "outputs": [],
   "source": [
    "# Создать аугментированные данные\n",
    "train_datagen = ImageDataGenerator(\n",
    "    rescale=1./255,\n",
    "    shear_range=0.2,\n",
    "    zoom_range=0.2,\n",
    "    horizontal_flip=True)\n",
    "test_datagen = ImageDataGenerator(rescale=1./255)"
   ]
  },
  {
   "cell_type": "code",
   "execution_count": 29,
   "metadata": {},
   "outputs": [
    {
     "data": {
      "text/html": [
       "<div>\n",
       "<style scoped>\n",
       "    .dataframe tbody tr th:only-of-type {\n",
       "        vertical-align: middle;\n",
       "    }\n",
       "\n",
       "    .dataframe tbody tr th {\n",
       "        vertical-align: top;\n",
       "    }\n",
       "\n",
       "    .dataframe thead th {\n",
       "        text-align: right;\n",
       "    }\n",
       "</style>\n",
       "<table border=\"1\" class=\"dataframe\">\n",
       "  <thead>\n",
       "    <tr style=\"text-align: right;\">\n",
       "      <th></th>\n",
       "      <th>filename</th>\n",
       "      <th>label</th>\n",
       "    </tr>\n",
       "  </thead>\n",
       "  <tbody>\n",
       "    <tr>\n",
       "      <th>2009</th>\n",
       "      <td>symvols\\1\\266.bmp</td>\n",
       "      <td>1</td>\n",
       "    </tr>\n",
       "    <tr>\n",
       "      <th>169</th>\n",
       "      <td>symvols\\0\\114 (2).bmp</td>\n",
       "      <td>0</td>\n",
       "    </tr>\n",
       "    <tr>\n",
       "      <th>1402</th>\n",
       "      <td>symvols\\0\\679.bmp</td>\n",
       "      <td>0</td>\n",
       "    </tr>\n",
       "    <tr>\n",
       "      <th>2126</th>\n",
       "      <td>symvols\\1\\372.bmp</td>\n",
       "      <td>1</td>\n",
       "    </tr>\n",
       "    <tr>\n",
       "      <th>10069</th>\n",
       "      <td>symvols\\B\\625.bmp</td>\n",
       "      <td>B</td>\n",
       "    </tr>\n",
       "    <tr>\n",
       "      <th>...</th>\n",
       "      <td>...</td>\n",
       "      <td>...</td>\n",
       "    </tr>\n",
       "    <tr>\n",
       "      <th>5330</th>\n",
       "      <td>symvols\\5\\458.bmp</td>\n",
       "      <td>5</td>\n",
       "    </tr>\n",
       "    <tr>\n",
       "      <th>4531</th>\n",
       "      <td>symvols\\4\\570.bmp</td>\n",
       "      <td>4</td>\n",
       "    </tr>\n",
       "    <tr>\n",
       "      <th>9866</th>\n",
       "      <td>symvols\\B\\442.bmp</td>\n",
       "      <td>B</td>\n",
       "    </tr>\n",
       "    <tr>\n",
       "      <th>365</th>\n",
       "      <td>symvols\\0\\200.bmp</td>\n",
       "      <td>0</td>\n",
       "    </tr>\n",
       "    <tr>\n",
       "      <th>12660</th>\n",
       "      <td>symvols\\K\\680.bmp</td>\n",
       "      <td>K</td>\n",
       "    </tr>\n",
       "  </tbody>\n",
       "</table>\n",
       "<p>12520 rows × 2 columns</p>\n",
       "</div>"
      ],
      "text/plain": [
       "                    filename label\n",
       "2009       symvols\\1\\266.bmp     1\n",
       "169    symvols\\0\\114 (2).bmp     0\n",
       "1402       symvols\\0\\679.bmp     0\n",
       "2126       symvols\\1\\372.bmp     1\n",
       "10069      symvols\\B\\625.bmp     B\n",
       "...                      ...   ...\n",
       "5330       symvols\\5\\458.bmp     5\n",
       "4531       symvols\\4\\570.bmp     4\n",
       "9866       symvols\\B\\442.bmp     B\n",
       "365        symvols\\0\\200.bmp     0\n",
       "12660      symvols\\K\\680.bmp     K\n",
       "\n",
       "[12520 rows x 2 columns]"
      ]
     },
     "execution_count": 29,
     "metadata": {},
     "output_type": "execute_result"
    }
   ],
   "source": [
    "train_df"
   ]
  },
  {
   "cell_type": "code",
   "execution_count": 33,
   "metadata": {},
   "outputs": [
    {
     "name": "stdout",
     "output_type": "stream",
     "text": [
      "Found 12520 validated image filenames belonging to 21 classes.\n",
      "Found 3130 validated image filenames belonging to 21 classes.\n"
     ]
    }
   ],
   "source": [
    "# Создать генераторы изображений для тренировочного и тестового наборов\n",
    "train_generator = train_datagen.flow_from_dataframe(\n",
    "    dataframe=train_df,\n",
    "    directory='' ,\n",
    "    x_col=\"filename\",\n",
    "    y_col=\"label\",\n",
    "    target_size=(img_width, img_height),\n",
    "    batch_size=batch_size,\n",
    "    class_mode=\"categorical\")\n",
    "\n",
    "validation_generator = test_datagen.flow_from_dataframe(\n",
    "    dataframe=test_df,\n",
    "    directory='' ,\n",
    "    x_col=\"filename\",\n",
    "    y_col=\"label\",\n",
    "    target_size=(img_width, img_height),\n",
    "    batch_size=batch_size,\n",
    "    class_mode=\"categorical\")"
   ]
  },
  {
   "cell_type": "code",
   "execution_count": 34,
   "metadata": {},
   "outputs": [],
   "source": [
    "# Создать модель CNN\n",
    "model = Sequential()\n",
    "\n",
    "model.add(Conv2D(32, (3, 3), input_shape=(img_width, img_height, 3), activation='relu'))\n",
    "model.add(MaxPooling2D(pool_size=(2, 2)))\n",
    "\n",
    "model.add(Conv2D(64, (3, 3), activation='relu'))\n",
    "model.add(MaxPooling2D(pool_size=(2, 2)))\n",
    "\n",
    "model.add(Conv2D(128, (3, 3), activation='relu'))\n",
    "model.add(MaxPooling2D(pool_size=(2, 2)))\n",
    "\n",
    "model.add(Flatten())\n",
    "model.add(Dense(128, activation='relu'))\n",
    "model.add(Dense(21, activation='softmax'))\n",
    "\n",
    "# Скомпилировать модель с функцией потерь и метриками\n",
    "model.compile(loss='categorical_crossentropy',\n",
    "              optimizer='adam',\n",
    "              metrics=['accuracy'])\n",
    "\n",
    "\n"
   ]
  },
  {
   "cell_type": "code",
   "execution_count": 36,
   "metadata": {},
   "outputs": [
    {
     "name": "stdout",
     "output_type": "stream",
     "text": [
      "Epoch 1/3\n",
      "1252/1252 [==============================] - 156s 124ms/step - loss: 0.1067 - accuracy: 0.9715 - val_loss: 0.0394 - val_accuracy: 0.9923\n",
      "Epoch 2/3\n",
      "1252/1252 [==============================] - 156s 125ms/step - loss: 0.0444 - accuracy: 0.9895 - val_loss: 0.0389 - val_accuracy: 0.9911\n",
      "Epoch 3/3\n",
      "1252/1252 [==============================] - 158s 126ms/step - loss: 0.0403 - accuracy: 0.9895 - val_loss: 0.0364 - val_accuracy: 0.9920\n"
     ]
    }
   ],
   "source": [
    "# Обучить модель\n",
    "history = model.fit(\n",
    "    train_generator,\n",
    "    steps_per_epoch=train_generator.n//train_generator.batch_size,\n",
    "    epochs=3,\n",
    "    validation_data=validation_generator,\n",
    "    validation_steps=validation_generator.n//validation_generator.batch_size\n",
    ")\n",
    "model.save('weights.h5')"
   ]
  },
  {
   "cell_type": "code",
   "execution_count": 56,
   "metadata": {},
   "outputs": [
    {
     "data": {
      "text/plain": [
       "['0',\n",
       " '1',\n",
       " '2',\n",
       " '3',\n",
       " '4',\n",
       " '5',\n",
       " '6',\n",
       " '7',\n",
       " '8',\n",
       " '9',\n",
       " 'A',\n",
       " 'B',\n",
       " 'C',\n",
       " 'E',\n",
       " 'H',\n",
       " 'K',\n",
       " 'M',\n",
       " 'P',\n",
       " 'T',\n",
       " 'X',\n",
       " 'Y']"
      ]
     },
     "execution_count": 56,
     "metadata": {},
     "output_type": "execute_result"
    }
   ],
   "source": [
    "labels = list(set(image_df[\"label\"]))\n",
    "labels.sort()\n",
    "labels"
   ]
  },
  {
   "cell_type": "code",
   "execution_count": 84,
   "metadata": {},
   "outputs": [
    {
     "name": "stdout",
     "output_type": "stream",
     "text": [
      "1/1 [==============================] - 0s 95ms/step\n",
      "M\n"
     ]
    },
    {
     "data": {
      "text/plain": [
       "<matplotlib.image.AxesImage at 0x1b6c7743340>"
      ]
     },
     "execution_count": 84,
     "metadata": {},
     "output_type": "execute_result"
    },
    {
     "data": {
      "image/png": "[encoded data removed]",
      "text/plain": [
       "<Figure size 640x480 with 1 Axes>"
      ]
     },
     "metadata": {},
     "output_type": "display_data"
    }
   ],
   "source": [
    "from keras.models import load_model\n",
    "from tensorflow.keras.preprocessing import image\n",
    "import numpy as np\n",
    "import matplotlib.pyplot as plt\n",
    "from PIL import Image\n",
    "\n",
    "# Загрузить сохраненную модель\n",
    "model = load_model('weights.h5')\n",
    "\n",
    "# Загрузить изображение с помощью библиотеки Pillow\n",
    "img_path = 'symvols\\\\M\\\\6.bmp'\n",
    "img = image.load_img(img_path, target_size=(img_width, img_height))\n",
    "\n",
    "# Преобразовать изображение в массив numpy\n",
    "x = image.img_to_array(img)\n",
    "x = np.expand_dims(x, axis=0)\n",
    "\n",
    "# Scaling pixel values in the range 0-1\n",
    "x = x/255.0\n",
    "\n",
    "# Получить предсказание\n",
    "preds = model.predict(x)\n",
    "\n",
    "#print(preds)\n",
    "print(labels[np.argmax(preds)])\n",
    "img = Image.open(img_path)\n",
    "plt.imshow(img)\n"
   ]
  },
  {
   "cell_type": "code",
   "execution_count": 88,
   "metadata": {},
   "outputs": [],
   "source": [
    "import os\n",
    "from PIL import Image\n",
    "\n",
    "def split_license_plate(image_path):\n",
    "    # Открываем изображение\n",
    "    image = Image.open(image_path)\n",
    "\n",
    "    # Проверяем, что папка temp существует, если нет - создаем ее\n",
    "    if not os.path.exists('temp'):\n",
    "        os.makedirs('temp')\n",
    "\n",
    "    # Разбиваем изображение на отдельные символы\n",
    "    for i, char_image in enumerate(split_characters(image)):\n",
    "        # Сохраняем каждый символ в папке temp\n",
    "        char_image.save(os.path.join('temp', f'{i}.png'))\n",
    "\n",
    "def split_characters(image):\n",
    "    # Получаем размеры изображения\n",
    "    image_width, image_height = image.size\n",
    "\n",
    "    # Определяем размер отдельно взятого символа\n",
    "    char_width = round(image_width / 10)\n",
    "    char_height = round(image_height * 0.9)\n",
    "\n",
    "    # Проходимся по каждому символу в номере машины\n",
    "    for i in range(10):\n",
    "        # Вычисляем координаты левого верхнего и правого нижнего углов символа в изображении\n",
    "        left = i * char_width\n",
    "        top = 0\n",
    "        right = (i + 1) * char_width\n",
    "        bottom = char_height\n",
    "\n",
    "        # Вырезаем символ и создаем из него новое изображение\n",
    "        char_image = image.crop((left, top, right, bottom)).copy()\n",
    "\n",
    "        # Изменяем размер изображения до 32x32 (по необходимости)\n",
    "        char_image = char_image.resize((32, 32))\n",
    "\n",
    "        # Возвращаем символ\n",
    "        yield char_image\n"
   ]
  },
  {
   "cell_type": "code",
   "execution_count": 91,
   "metadata": {},
   "outputs": [],
   "source": [
    "split_license_plate(\"NumBaseCrop\\\\7.bmp\")"
   ]
  },
  {
   "cell_type": "code",
   "execution_count": 99,
   "metadata": {},
   "outputs": [
    {
     "name": "stdout",
     "output_type": "stream",
     "text": [
      "1/1 [==============================] - 0s 95ms/step\n",
      "1/1 [==============================] - 0s 29ms/step\n",
      "1/1 [==============================] - 0s 28ms/step\n",
      "1/1 [==============================] - 0s 29ms/step\n",
      "1/1 [==============================] - 0s 29ms/step\n",
      "1/1 [==============================] - 0s 29ms/step\n",
      "Номер машины:  540555\n",
      "['0', '1', '2', '3', '4', '5', '6', '7', '8', '9', 'A', 'B', 'C', 'E', 'H', 'K', 'M', 'P', 'T', 'X', 'Y']\n"
     ]
    }
   ],
   "source": [
    "import os\n",
    "import cv2\n",
    "import numpy as np\n",
    "from keras.models import load_model\n",
    "\n",
    "# Загружаем модель нейросети\n",
    "model = load_model('weights.h5')\n",
    "\n",
    "# Загружаем изображение номера машины\n",
    "img_path = 'NumBaseCrop\\\\7.bmp'\n",
    "img = cv2.imread(img_path)\n",
    "\n",
    "\n",
    "split_license_plate(\"NumBaseCrop\\\\7.bmp\")\n",
    "\n",
    "# Склеиваем распознанные символы в одну строку\n",
    "car_number = ''\n",
    "symbols = os.listdir('temp')\n",
    "for symbol in symbols[1:-3]:\n",
    "    # Предобработка изображения символа для подготовки к распознаванию\n",
    "    \n",
    "    img = image.load_img('temp\\\\'+symbol, target_size=(img_width, img_height))\n",
    "    \n",
    "    # Преобразовать изображение в массив numpy\n",
    "    x = image.img_to_array(img)\n",
    "    x = np.expand_dims(x, axis=0)\n",
    "\n",
    "    # Scaling pixel values in the range 0-1\n",
    "    x = x/255.0\n",
    "\n",
    "    # Получение распознанного символа от нейросети\n",
    "    predicted = model.predict(x)\n",
    "    car_number += labels[np.argmax(predicted)]\n",
    "\n",
    "print('Номер машины: ', car_number)\n",
    "print(labels)\n"
   ]
  }
 ],
 "metadata": {
  "kernelspec": {
   "display_name": "ML",
   "language": "python",
   "name": "python3"
  },
  "language_info": {
   "codemirror_mode": {
    "name": "ipython",
    "version": 3
   },
   "file_extension": ".py",
   "mimetype": "text/x-python",
   "name": "python",
   "nbconvert_exporter": "python",
   "pygments_lexer": "ipython3",
   "version": "3.10.10"
  },
  "orig_nbformat": 4
 },
 "nbformat": 4,
 "nbformat_minor": 2
}
