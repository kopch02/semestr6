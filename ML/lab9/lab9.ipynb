{
 "cells": [
  {
   "attachments": {},
   "cell_type": "markdown",
   "metadata": {},
   "source": [
    "На основе рассмотренного на занятии Colab-ноутбука по распознаванию предметов одежды решите задачу распознавания рукописных цифр. \n",
    "\n",
    "На этот раз примените не полносвязную, а сверточную нейронную сеть. \n",
    "\n",
    "Сравните полученные результаты работы сверточной нейронной сети с аналогичными результатами работы полносвязной нейронной сети.\n",
    "\n",
    "Поэкспериментируйте с различными конфигурациями сети. \n",
    "\n",
    "Приведите графики долей правильных ответов на обучающем множестве и валидационном. \n",
    "\n",
    "Определите оптимальное количество эпох для обучения для каждой из используемых конфигураций нейронной сети. \n",
    "\n",
    "Получите оценки качества классификаторов на тестовом множестве. \n",
    "\n",
    "Какая конфигурация из используемых лучше? \n",
    "\n",
    "Определите для каждой цифры на тестовом множестве точность работы классификаторов. \n",
    "\n",
    "Проведите тестирование построенной модели на реальных данных с изображениями рукописных цифр."
   ]
  },
  {
   "cell_type": "code",
   "execution_count": 2,
   "metadata": {},
   "outputs": [],
   "source": [
    "from tensorflow import keras\n",
    "from keras.datasets import mnist\n",
    "from keras.models import Sequential\n",
    "from keras.layers import Dense\n",
    "from keras import utils\n",
    "from keras.preprocessing import image\n",
    "import numpy as np\n",
    "import matplotlib.pyplot as plt\n",
    "from PIL import Image"
   ]
  },
  {
   "cell_type": "code",
   "execution_count": 3,
   "metadata": {},
   "outputs": [],
   "source": [
    "classes = ['class_0', 'class_1', 'class_2', 'class_3', 'class_4', 'class_5', 'class_6', 'class_7', 'class_8', 'class_9']"
   ]
  },
  {
   "cell_type": "code",
   "execution_count": 4,
   "metadata": {},
   "outputs": [],
   "source": [
    "(x_train, y_train), (x_test, y_test) = mnist.load_data()"
   ]
  },
  {
   "cell_type": "code",
   "execution_count": 5,
   "metadata": {},
   "outputs": [],
   "source": [
    "x_train = x_train.reshape((x_train.shape[0], 28, 28, 1))\n",
    "x_test = x_test.reshape((x_test.shape[0], 28, 28, 1))\n",
    "x_train, x_test = x_train / 255.0, x_test / 255.0"
   ]
  },
  {
   "cell_type": "code",
   "execution_count": 6,
   "metadata": {},
   "outputs": [],
   "source": [
    "from keras.layers import Conv2D, MaxPooling2D, Dense, Flatten"
   ]
  },
  {
   "cell_type": "code",
   "execution_count": 7,
   "metadata": {},
   "outputs": [],
   "source": [
    "model = Sequential([\n",
    "    Conv2D(32, (3,3), activation='relu', input_shape=(28, 28, 1)),#первый слой\n",
    "    #сделали изображение ЧБ\n",
    "    #relu - функция активации\n",
    "    #у слоя 32 фильтра, у такого же следующего 64\n",
    "    #размеры фильров 3 на 3\n",
    "    MaxPooling2D((2,2)),#слой обьеденения макс значения\n",
    "    Conv2D(64, (3,3), activation='relu'),#ещё свёрточный слой\n",
    "    MaxPooling2D((2,2)),#ещё обьеденение\n",
    "    Flatten(),#преобразование в вектор\n",
    "    Dense(64, activation='relu'),#слой с 64 нейронами\n",
    "    Dense(10, activation='softmax')#выходной слой с 10 нейронами\n",
    "])"
   ]
  },
  {
   "cell_type": "code",
   "execution_count": 8,
   "metadata": {},
   "outputs": [],
   "source": [
    "model.compile(optimizer='adam',\n",
    "              loss='sparse_categorical_crossentropy',\n",
    "              metrics=['accuracy'])"
   ]
  },
  {
   "cell_type": "code",
   "execution_count": 9,
   "metadata": {},
   "outputs": [
    {
     "name": "stdout",
     "output_type": "stream",
     "text": [
      "Epoch 1/5\n",
      "1875/1875 [==============================] - 20s 10ms/step - loss: 0.1414 - accuracy: 0.9573 - val_loss: 0.0731 - val_accuracy: 0.9768\n",
      "Epoch 2/5\n",
      "1875/1875 [==============================] - 19s 10ms/step - loss: 0.0470 - accuracy: 0.9857 - val_loss: 0.0454 - val_accuracy: 0.9851\n",
      "Epoch 3/5\n",
      "1875/1875 [==============================] - 19s 10ms/step - loss: 0.0338 - accuracy: 0.9894 - val_loss: 0.0379 - val_accuracy: 0.9883\n",
      "Epoch 4/5\n",
      "1875/1875 [==============================] - 19s 10ms/step - loss: 0.0253 - accuracy: 0.9922 - val_loss: 0.0357 - val_accuracy: 0.9890\n",
      "Epoch 5/5\n",
      "1875/1875 [==============================] - 19s 10ms/step - loss: 0.0193 - accuracy: 0.9937 - val_loss: 0.0315 - val_accuracy: 0.9904\n"
     ]
    },
    {
     "data": {
      "text/plain": [
       "<keras.callbacks.History at 0x1a2d8b58eb0>"
      ]
     },
     "execution_count": 9,
     "metadata": {},
     "output_type": "execute_result"
    }
   ],
   "source": [
    "model.fit(x_train, y_train, epochs=5, validation_data=(x_test, y_test))"
   ]
  },
  {
   "attachments": {},
   "cell_type": "markdown",
   "metadata": {},
   "source": [
    "по результатм обучения видно, что хватает и 2 эпох"
   ]
  },
  {
   "cell_type": "code",
   "execution_count": 10,
   "metadata": {},
   "outputs": [
    {
     "name": "stdout",
     "output_type": "stream",
     "text": [
      "313/313 [==============================] - 1s 3ms/step - loss: 0.0315 - accuracy: 0.9904\n",
      "точность: 0.9904000163078308\n"
     ]
    }
   ],
   "source": [
    "test_loss, test_acc = model.evaluate(x_test, y_test)\n",
    "print('точность:', test_acc)"
   ]
  },
  {
   "cell_type": "code",
   "execution_count": 11,
   "metadata": {},
   "outputs": [],
   "source": [
    "def preobr(img):\n",
    "    x = utils.img_to_array(img)\n",
    "    x = np.expand_dims(x, axis=0)\n",
    "    x /= 255\n",
    "    return x"
   ]
  },
  {
   "cell_type": "code",
   "execution_count": 12,
   "metadata": {},
   "outputs": [
    {
     "name": "stdout",
     "output_type": "stream",
     "text": [
      "1/1 [==============================] - 0s 93ms/step\n",
      "взяли : 0\n",
      "Название класса: class_0\n",
      "уверенность : 0.96840500831604\n",
      "1/1 [==============================] - 0s 19ms/step\n",
      "взяли : 1\n",
      "Название класса: class_6\n",
      "уверенность : 0.5610037446022034\n",
      "1/1 [==============================] - 0s 20ms/step\n",
      "взяли : 2\n",
      "Название класса: class_4\n",
      "уверенность : 0.919871985912323\n",
      "1/1 [==============================] - 0s 20ms/step\n",
      "взяли : 3\n",
      "Название класса: class_4\n",
      "уверенность : 0.6366264820098877\n",
      "1/1 [==============================] - 0s 20ms/step\n",
      "взяли : 4\n",
      "Название класса: class_4\n",
      "уверенность : 0.9927324652671814\n",
      "1/1 [==============================] - 0s 20ms/step\n",
      "взяли : 5\n",
      "Название класса: class_5\n",
      "уверенность : 0.44892072677612305\n",
      "1/1 [==============================] - 0s 20ms/step\n",
      "взяли : 6\n",
      "Название класса: class_5\n",
      "уверенность : 0.9489426016807556\n",
      "1/1 [==============================] - 0s 20ms/step\n",
      "взяли : 7\n",
      "Название класса: class_4\n",
      "уверенность : 0.7619015574455261\n",
      "1/1 [==============================] - 0s 20ms/step\n",
      "взяли : 8\n",
      "Название класса: class_6\n",
      "уверенность : 0.8127483129501343\n",
      "1/1 [==============================] - 0s 19ms/step\n",
      "взяли : 9\n",
      "Название класса: class_4\n",
      "уверенность : 0.7654361128807068\n"
     ]
    }
   ],
   "source": [
    "for i in range(10):\n",
    "    img = utils.load_img(f\"img\\\\{i}.jpg\", target_size=(28, 28), color_mode = \"grayscale\")\n",
    "    prediction = model.predict(preobr(img))\n",
    "    #print(prediction)\n",
    "    pred = np.argmax(prediction)\n",
    "    con = prediction[0][pred]\n",
    "    print(f\"взяли : {i}\")\n",
    "    print(\"Название класса:\", classes[pred])\n",
    "    print(f\"уверенность : {con}\")"
   ]
  },
  {
   "attachments": {},
   "cell_type": "markdown",
   "metadata": {},
   "source": [
    "видим, что на многих цифрах плохие резьтаты, возможно из-за переобучения"
   ]
  },
  {
   "cell_type": "code",
   "execution_count": 13,
   "metadata": {},
   "outputs": [
    {
     "name": "stdout",
     "output_type": "stream",
     "text": [
      "1875/1875 [==============================] - 19s 10ms/step - loss: 0.0152 - accuracy: 0.9949 - val_loss: 0.0241 - val_accuracy: 0.9923\n"
     ]
    },
    {
     "data": {
      "text/plain": [
       "<keras.callbacks.History at 0x1a2db06eb00>"
      ]
     },
     "execution_count": 13,
     "metadata": {},
     "output_type": "execute_result"
    }
   ],
   "source": [
    "model.fit(x_train, y_train, epochs=1, validation_data=(x_test, y_test))"
   ]
  },
  {
   "cell_type": "code",
   "execution_count": 14,
   "metadata": {},
   "outputs": [
    {
     "name": "stdout",
     "output_type": "stream",
     "text": [
      "313/313 [==============================] - 1s 3ms/step - loss: 0.0241 - accuracy: 0.9923\n",
      "точность: 0.9922999739646912\n"
     ]
    }
   ],
   "source": [
    "test_loss, test_acc = model.evaluate(x_test, y_test)\n",
    "print('точность:', test_acc)"
   ]
  },
  {
   "cell_type": "code",
   "execution_count": 15,
   "metadata": {},
   "outputs": [
    {
     "name": "stdout",
     "output_type": "stream",
     "text": [
      "1/1 [==============================] - 0s 20ms/step\n",
      "взяли : 0\n",
      "Название класса: class_0\n",
      "уверенность : 0.9122517108917236\n",
      "1/1 [==============================] - 0s 20ms/step\n",
      "взяли : 1\n",
      "Название класса: class_6\n",
      "уверенность : 0.7863438725471497\n",
      "1/1 [==============================] - 0s 20ms/step\n",
      "взяли : 2\n",
      "Название класса: class_4\n",
      "уверенность : 0.5647439360618591\n",
      "1/1 [==============================] - 0s 20ms/step\n",
      "взяли : 3\n",
      "Название класса: class_8\n",
      "уверенность : 0.37968331575393677\n",
      "1/1 [==============================] - 0s 20ms/step\n",
      "взяли : 4\n",
      "Название класса: class_4\n",
      "уверенность : 0.9888566136360168\n",
      "1/1 [==============================] - 0s 19ms/step\n",
      "взяли : 5\n",
      "Название класса: class_4\n",
      "уверенность : 0.3656160533428192\n",
      "1/1 [==============================] - 0s 19ms/step\n",
      "взяли : 6\n",
      "Название класса: class_5\n",
      "уверенность : 0.7653658390045166\n",
      "1/1 [==============================] - 0s 20ms/step\n",
      "взяли : 7\n",
      "Название класса: class_7\n",
      "уверенность : 0.3934202790260315\n",
      "1/1 [==============================] - 0s 21ms/step\n",
      "взяли : 8\n",
      "Название класса: class_6\n",
      "уверенность : 0.8245975971221924\n",
      "1/1 [==============================] - 0s 22ms/step\n",
      "взяли : 9\n",
      "Название класса: class_9\n",
      "уверенность : 0.5450577139854431\n"
     ]
    }
   ],
   "source": [
    "for i in range(10):\n",
    "    img = utils.load_img(f\"img\\\\{i}.jpg\", target_size=(28, 28), color_mode = \"grayscale\")\n",
    "    prediction = model.predict(preobr(img))\n",
    "    #print(prediction)\n",
    "    pred = np.argmax(prediction)\n",
    "    con = prediction[0][pred]\n",
    "    print(f\"взяли : {i}\")\n",
    "    print(\"Название класса:\", classes[pred])\n",
    "    print(f\"уверенность : {con}\")"
   ]
  },
  {
   "attachments": {},
   "cell_type": "markdown",
   "metadata": {},
   "source": [
    "и всёравно не особо хорошие результаты (("
   ]
  },
  {
   "attachments": {},
   "cell_type": "markdown",
   "metadata": {},
   "source": [
    "Пробую пересоздать модель с использованием Dropout\n",
    "это позволит в случайном порядке отключать 20% нейронов для избежания переобучения "
   ]
  },
  {
   "attachments": {},
   "cell_type": "markdown",
   "metadata": {},
   "source": [
    "так же использую уже готовый обученный слой для распознования картинок, правда пришлось поменять размер картинок 32 на 32"
   ]
  },
  {
   "cell_type": "code",
   "execution_count": 16,
   "metadata": {},
   "outputs": [],
   "source": [
    "from keras.layers import Dropout, GlobalAveragePooling2D"
   ]
  },
  {
   "cell_type": "code",
   "execution_count": 17,
   "metadata": {},
   "outputs": [
    {
     "name": "stdout",
     "output_type": "stream",
     "text": [
      "WARNING:tensorflow:`input_shape` is undefined or non-square, or `rows` is not in [96, 128, 160, 192, 224]. Weights for input shape (224, 224) will be loaded as the default.\n"
     ]
    }
   ],
   "source": [
    "base_layers = keras.applications.MobileNetV2(input_shape=(32, 32, 3), include_top=False) # заготовленная модель, где обученны перввые слои\n",
    "base_layers.trainable = False #говорим не переобучать первые слои"
   ]
  },
  {
   "cell_type": "code",
   "execution_count": 18,
   "metadata": {},
   "outputs": [],
   "source": [
    "model = Sequential([\n",
    "    Conv2D(32, (3,3), activation='relu', input_shape=(28, 28, 1)),\n",
    "    MaxPooling2D((2,2)),\n",
    "    Conv2D(64, (3,3), activation='relu'),\n",
    "    MaxPooling2D((2,2)),\n",
    "    Flatten(),\n",
    "    Dense(64, activation='relu'),\n",
    "    Dropout(0.2),\n",
    "    Dense(10, activation='softmax')\n",
    "])"
   ]
  },
  {
   "cell_type": "code",
   "execution_count": 19,
   "metadata": {},
   "outputs": [],
   "source": [
    "model.compile(optimizer='adam',\n",
    "              loss='sparse_categorical_crossentropy',\n",
    "              metrics=['accuracy'])"
   ]
  },
  {
   "cell_type": "code",
   "execution_count": 20,
   "metadata": {},
   "outputs": [
    {
     "name": "stdout",
     "output_type": "stream",
     "text": [
      "Epoch 1/2\n",
      "1875/1875 [==============================] - 20s 11ms/step - loss: 0.1719 - accuracy: 0.9480 - val_loss: 0.0506 - val_accuracy: 0.9838\n",
      "Epoch 2/2\n",
      "1875/1875 [==============================] - 20s 11ms/step - loss: 0.0625 - accuracy: 0.9814 - val_loss: 0.0336 - val_accuracy: 0.9883\n"
     ]
    },
    {
     "data": {
      "text/plain": [
       "<keras.callbacks.History at 0x1a2db225f00>"
      ]
     },
     "execution_count": 20,
     "metadata": {},
     "output_type": "execute_result"
    }
   ],
   "source": [
    "model.fit(x_train, y_train, epochs=2, validation_data=(x_test, y_test))"
   ]
  },
  {
   "cell_type": "code",
   "execution_count": 21,
   "metadata": {},
   "outputs": [
    {
     "name": "stdout",
     "output_type": "stream",
     "text": [
      "313/313 [==============================] - 1s 4ms/step - loss: 0.0336 - accuracy: 0.9883\n",
      "точность: 0.9883000254631042\n"
     ]
    }
   ],
   "source": [
    "test_loss, test_acc = model.evaluate(x_test, y_test)\n",
    "print('точность:', test_acc)"
   ]
  },
  {
   "cell_type": "code",
   "execution_count": 22,
   "metadata": {},
   "outputs": [
    {
     "name": "stdout",
     "output_type": "stream",
     "text": [
      "1/1 [==============================] - 0s 68ms/step\n",
      "взяли : 0\n",
      "Название класса: class_0\n",
      "уверенность : 0.592850923538208\n",
      "1/1 [==============================] - 0s 19ms/step\n",
      "взяли : 1\n",
      "Название класса: class_4\n",
      "уверенность : 0.4806431829929352\n",
      "1/1 [==============================] - 0s 21ms/step\n",
      "взяли : 2\n",
      "Название класса: class_4\n",
      "уверенность : 0.8199167847633362\n",
      "1/1 [==============================] - 0s 20ms/step\n",
      "взяли : 3\n",
      "Название класса: class_9\n",
      "уверенность : 0.3817760646343231\n",
      "1/1 [==============================] - 0s 19ms/step\n",
      "взяли : 4\n",
      "Название класса: class_4\n",
      "уверенность : 0.7901642918586731\n",
      "1/1 [==============================] - 0s 20ms/step\n",
      "взяли : 5\n",
      "Название класса: class_0\n",
      "уверенность : 0.6601783633232117\n",
      "1/1 [==============================] - 0s 21ms/step\n",
      "взяли : 6\n",
      "Название класса: class_8\n",
      "уверенность : 0.31316816806793213\n",
      "1/1 [==============================] - 0s 20ms/step\n",
      "взяли : 7\n",
      "Название класса: class_4\n",
      "уверенность : 0.5507037043571472\n",
      "1/1 [==============================] - 0s 20ms/step\n",
      "взяли : 8\n",
      "Название класса: class_4\n",
      "уверенность : 0.5023682117462158\n",
      "1/1 [==============================] - 0s 20ms/step\n",
      "взяли : 9\n",
      "Название класса: class_0\n",
      "уверенность : 0.40530261397361755\n"
     ]
    }
   ],
   "source": [
    "for i in range(10):\n",
    "    img = utils.load_img(f\"img\\\\{i}.jpg\", target_size=(28, 28), color_mode = \"grayscale\")\n",
    "    prediction = model.predict(preobr(img))\n",
    "    #print(prediction)\n",
    "    pred = np.argmax(prediction)\n",
    "    con = prediction[0][pred]\n",
    "    print(f\"взяли : {i}\")\n",
    "    print(\"Название класса:\", classes[pred])\n",
    "    print(f\"уверенность : {con}\")"
   ]
  },
  {
   "attachments": {},
   "cell_type": "markdown",
   "metadata": {},
   "source": [
    "всё стало только хуже((("
   ]
  }
 ],
 "metadata": {
  "kernelspec": {
   "display_name": "ML",
   "language": "python",
   "name": "python3"
  },
  "language_info": {
   "codemirror_mode": {
    "name": "ipython",
    "version": 3
   },
   "file_extension": ".py",
   "mimetype": "text/x-python",
   "name": "python",
   "nbconvert_exporter": "python",
   "pygments_lexer": "ipython3",
   "version": "3.10.10"
  },
  "orig_nbformat": 4
 },
 "nbformat": 4,
 "nbformat_minor": 2
}
