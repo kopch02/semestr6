{
 "cells": [
  {
   "cell_type": "code",
   "execution_count": null,
   "metadata": {},
   "outputs": [],
   "source": [
    "import cv2\n",
    "import numpy as np"
   ]
  },
  {
   "attachments": {},
   "cell_type": "markdown",
   "metadata": {},
   "source": [
    "1. Для всех изображений примените фильтр, фильтр Гаусса и медианный фильтр с размером маски (ядра) 3x3, 5x5, 7x7, 9x9. Сравнитеполученныерезультаты, поясните для каких изображений лучше применятьфильтрГаусса,медианный или усредняющий фильтр. Проанализируйтегистограммыоригинальных и полученных изображений. Применима ли гистограммадляанализа проведенных преобразований?"
   ]
  },
  {
   "cell_type": "code",
   "execution_count": null,
   "metadata": {},
   "outputs": [],
   "source": []
  },
  {
   "attachments": {},
   "cell_type": "markdown",
   "metadata": {},
   "source": [
    "2. С использованием filter2D реализуйте фильтрыПревитта, СобеляиРобертса. Что можно сказать про результаты фильтрации? Чтоможносказатьпро полученные изображения на основе анализа гистограмм?"
   ]
  },
  {
   "cell_type": "code",
   "execution_count": null,
   "metadata": {},
   "outputs": [],
   "source": []
  }
 ],
 "metadata": {
  "language_info": {
   "name": "python"
  },
  "orig_nbformat": 4
 },
 "nbformat": 4,
 "nbformat_minor": 2
}
