{
 "cells": [
  {
   "attachments": {},
   "cell_type": "markdown",
   "metadata": {},
   "source": [
    "все файлы тут:\n",
    "\n",
    "https://github.com/kopch02/semestr6/tree/master/ML/lab13"
   ]
  },
  {
   "cell_type": "code",
   "execution_count": 156,
   "metadata": {},
   "outputs": [],
   "source": [
    "MALE_WORDS_RU = {'парень',\n",
    "'представитель', 'председатель',\n",
    "'мужской', 'мужчина', 'он', 'ему', 'его',\n",
    "'мальчик', 'бойфренд', 'бойфренды',\n",
    "'мальчики', 'брат', 'братья', 'папа',\n",
    "'папы', 'чувак', 'отец', 'отцы', 'жених',\n",
    "'джентльмен', 'джентльмены', 'бог',\n",
    "'дедушка', 'старик', 'внук', 'жених', 'он',\n",
    "'сам', 'муж', 'мужья', 'король',\n",
    "'мужчины', 'мистер', 'господин',\n",
    "'племянник', 'племянники',\n",
    "'священник', 'принц', 'сын', 'сыновья',\n",
    "'дядя', 'дяди', 'официант', 'вдовец',\n",
    "'вдовцы','гарри','поттер','шерлок','холмс'}\n"
   ]
  },
  {
   "cell_type": "code",
   "execution_count": 157,
   "metadata": {},
   "outputs": [],
   "source": [
    "FEMALE_WORDS_RU = {'героиня', 'представительница',\n",
    "'председательница', 'женщина',\n",
    "'актриса', 'женщины', 'она', 'ее', 'тетя',\n",
    "'тети', 'невеста', 'дочь', 'дочери',\n",
    "'женщина', 'невеста', 'девочка',\n",
    "'подруга', 'подруги', 'девочки',\n",
    "'богиня', 'внучка', 'бабка', 'бабушка',\n",
    "'сама', 'дамы', 'леди', 'мама', 'мамы',\n",
    "'мать', 'матери', 'миссис', 'мисс',\n",
    "'племянница', 'племянницы', 'жрица',\n",
    "'принцесса', 'королевы', 'она', 'сестра',\n",
    "'сестры', 'официантка', 'вдова',\n",
    "'вдовы', 'жена', 'жены', 'женщина'}"
   ]
  },
  {
   "cell_type": "code",
   "execution_count": 158,
   "metadata": {},
   "outputs": [],
   "source": [
    "FEMALE_WORDS = set([\n",
    "    'heroine', 'spokeswoman', 'chairwoman', \"women's\", 'actress', 'women',\n",
    "    \"she's\", 'her', 'aunt', 'aunts', 'bride', 'daughter', 'daughters',\n",
    "    'female', 'fiancee', 'girl', 'girlfriend', 'girlfriends', 'girls',\n",
    "    'goddess', 'granddaughter', 'grandma', 'grandmother', 'herself', 'ladies',\n",
    "    'lady', 'mom', 'moms', 'mother', 'mothers', 'mrs', 'ms', 'niece', 'nieces',\n",
    "    'priestess', 'princess', 'queens', 'she', 'sister', 'sisters', 'waitress',\n",
    "    'widow', 'widows', 'wife', 'wives', 'woman'\n",
    "])"
   ]
  },
  {
   "cell_type": "code",
   "execution_count": 159,
   "metadata": {},
   "outputs": [],
   "source": [
    "MALE_WORDS = set([\n",
    "    'guy', 'spokesman', 'chairman', \"men's\", 'men', 'him', \"he's\", 'his',\n",
    "    'boy', 'boyfriend', 'boyfriends', 'boys', 'brother', 'brothers', 'dad',\n",
    "    'dads', 'dude', 'father', 'fathers', 'fiance', 'gentleman', 'gentlemen',\n",
    "    'god', 'grandfather', 'grandpa', 'grandson', 'groom', 'he', 'himself',\n",
    "    'husband', 'husbands', 'king', 'male', 'man', 'mr', 'nephew', 'nephews',\n",
    "    'priest', 'prince', 'son', 'sons', 'uncle', 'uncles', 'waiter', 'widower',\n",
    "    'widowers'\n",
    "])"
   ]
  },
  {
   "cell_type": "code",
   "execution_count": 160,
   "metadata": {},
   "outputs": [],
   "source": [
    "lang = {'ru':[MALE_WORDS_RU,FEMALE_WORDS_RU],'en':[MALE_WORDS,FEMALE_WORDS]}"
   ]
  },
  {
   "cell_type": "code",
   "execution_count": 161,
   "metadata": {},
   "outputs": [],
   "source": [
    "def genderize(words, language): #Функция подсчета количества слов в преложени\n",
    "    words = words.split()\n",
    "    words = list(map(lambda x: x.replace(\"\\n\",\"\"),words))\n",
    "    mwlen = len(lang[language][0].intersection(words)) #Запишем в переменнуюmwlen количество мужских слов, используя функцию пересечения множеств\n",
    "    fwlen = len(lang[language][1].intersection(words)) #В переменную fwlenколичество женских слов\n",
    "    if mwlen > 0 and fwlen == 0: #Если количество мужских слов большенуля и женских слов нет совсем, то функция вернет параметр \"male\" -мужской\n",
    "        return \"male\"\n",
    "    elif mwlen == 0 and fwlen > 0: #Аналогично, если женских слов не нуль, а мужских слов нет, то вернет параметр \"female\" - женский\n",
    "        return 'female'\n",
    "    elif mwlen > 0 and fwlen > 0: #Если количество женских и мужских слов отлично от нуля, то предложение будет считать двуполым\n",
    "        return 'both'\n",
    "    else:\n",
    "        return 'unknow' #В ином случае - неизвестно."
   ]
  },
  {
   "cell_type": "code",
   "execution_count": 162,
   "metadata": {},
   "outputs": [],
   "source": [
    "from collections import Counter #Из встроенной библиотеки Python подключим функцию Counter для подсчета частоты слов\n",
    "def count_gender(sentences, language):\n",
    "    sents = Counter() #Задаем пустую переменную sents для подсчета количества предложений определенного рода\n",
    "    words = Counter() #Задаем пустую переменную words для подсчета количества слов в предложении\n",
    "    for sentence in sentences:\n",
    "        gender = genderize(sentence, language) #Вызываем ранее созданную функцию\n",
    "        sents[gender] += 1 #Считаем количество предложений определенного рода\n",
    "        words[gender] += len(sentence) #Считаем количество слов в предложении\n",
    "    return sents, words"
   ]
  },
  {
   "cell_type": "code",
   "execution_count": 163,
   "metadata": {},
   "outputs": [],
   "source": [
    "from nltk.stem import SnowballStemmer"
   ]
  },
  {
   "cell_type": "code",
   "execution_count": 164,
   "metadata": {},
   "outputs": [
    {
     "name": "stderr",
     "output_type": "stream",
     "text": [
      "[nltk_data] Downloading package punkt to\n",
      "[nltk_data]     C:\\Users\\iskan\\AppData\\Roaming\\nltk_data...\n",
      "[nltk_data]   Package punkt is already up-to-date!\n"
     ]
    },
    {
     "data": {
      "text/plain": [
       "True"
      ]
     },
     "execution_count": 164,
     "metadata": {},
     "output_type": "execute_result"
    }
   ],
   "source": [
    "import nltk #Подключаем библиотеку NLTK\n",
    "nltk.download('punkt') #Скачиваем для нее нужное для работы расширение"
   ]
  },
  {
   "cell_type": "code",
   "execution_count": 165,
   "metadata": {},
   "outputs": [],
   "source": [
    "def parse_gender(text,language = 'en'): #На основе этой библиотеки, создадим функциидля разделения предложения на отдельные слова.\n",
    "    sentences = [word.lower() for word in nltk.sent_tokenize(text)] #Для этого в двух циклах разобьем наш текст на предложения, а\n",
    "    sents, words = count_gender(sentences, language) #Вызов ранее созданной функции\n",
    "    total = sum(words.values()) #В переменную total запишем все словаиз предложений определенного рода.\n",
    "    for gender, count in words.items(): #И для каждой категории посчитаем частоту слов в процентах.\n",
    "        pcent = (count / total) * 100\n",
    "        nsents = sents[gender]\n",
    "        print(f\"{pcent}% {gender} ({nsents} sentences)\")"
   ]
  },
  {
   "cell_type": "code",
   "execution_count": 166,
   "metadata": {},
   "outputs": [],
   "source": [
    "with open('text.txt','rt') as file:    \n",
    "    mega_text = file.read() "
   ]
  },
  {
   "cell_type": "code",
   "execution_count": 167,
   "metadata": {},
   "outputs": [
    {
     "name": "stdout",
     "output_type": "stream",
     "text": [
      "77.91411042944786% unknow (4 sentences)\n",
      "22.085889570552148% female (2 sentences)\n"
     ]
    }
   ],
   "source": [
    "parse_gender(mega_text)"
   ]
  },
  {
   "attachments": {},
   "cell_type": "markdown",
   "metadata": {},
   "source": [
    "Задание. Написать простую модель, использующую лингвистические\n",
    "признаки текста (любого объема на ваше усмотрение, но не менее 10\n",
    "предложений), для выявления преобладающего рода (мужского или женского) во\n",
    "фрагменте различных произведений и статей, представленных ниже:"
   ]
  },
  {
   "attachments": {},
   "cell_type": "markdown",
   "metadata": {},
   "source": [
    "Гарри Поттер и философский камень\n",
    "\n",
    "добавил в словарь мужского рода слова: гаррри, поттер"
   ]
  },
  {
   "cell_type": "code",
   "execution_count": 169,
   "metadata": {},
   "outputs": [
    {
     "name": "stdout",
     "output_type": "stream",
     "text": [
      "9.670510708401977% both (21 sentences)\n",
      "41.98023064250412% unknow (206 sentences)\n",
      "40.43163097199341% male (125 sentences)\n",
      "7.917627677100494% female (22 sentences)\n"
     ]
    }
   ],
   "source": [
    "with open('garry_potter.txt','rt', encoding='utf-8') as file:    \n",
    "    mega_text = file.read() \n",
    "    parse_gender(mega_text,language = 'ru')"
   ]
  },
  {
   "attachments": {},
   "cell_type": "markdown",
   "metadata": {},
   "source": [
    "Приключения Шерлока Холмса\n",
    "\n",
    "добавил в словарь мужского рода слова: шерлок, холмс"
   ]
  },
  {
   "cell_type": "code",
   "execution_count": 170,
   "metadata": {},
   "outputs": [
    {
     "name": "stdout",
     "output_type": "stream",
     "text": [
      "10.823739801050632% female (67 sentences)\n",
      "3.1116575388398346% both (13 sentences)\n",
      "26.509444506538504% male (110 sentences)\n",
      "59.55515815357103% unknow (481 sentences)\n"
     ]
    }
   ],
   "source": [
    "with open('sherlock_holmes.txt','rt', encoding='utf-8') as file:    \n",
    "    mega_text = file.read() \n",
    "    parse_gender(mega_text,language = 'ru')"
   ]
  },
  {
   "attachments": {},
   "cell_type": "markdown",
   "metadata": {},
   "source": [
    "путешествие к центру земли"
   ]
  },
  {
   "cell_type": "code",
   "execution_count": 171,
   "metadata": {},
   "outputs": [
    {
     "name": "stdout",
     "output_type": "stream",
     "text": [
      "39.383608345833906% unknow (30 sentences)\n",
      "1.5137051684167462% female (1 sentences)\n",
      "55.611618709941354% male (27 sentences)\n",
      "3.4910677758079913% both (1 sentences)\n"
     ]
    }
   ],
   "source": [
    "with open('centre_earth.txt','rt', encoding='utf-8') as file:    \n",
    "    mega_text = file.read() \n",
    "    parse_gender(mega_text,language = 'ru')"
   ]
  },
  {
   "attachments": {},
   "cell_type": "markdown",
   "metadata": {},
   "source": [
    "королева великобритании"
   ]
  },
  {
   "cell_type": "code",
   "execution_count": 172,
   "metadata": {},
   "outputs": [
    {
     "name": "stdout",
     "output_type": "stream",
     "text": [
      "14.237021019260018% male (45 sentences)\n",
      "57.92666165771775% unknow (213 sentences)\n",
      "18.19714489911855% female (59 sentences)\n",
      "9.639172423903682% both (25 sentences)\n"
     ]
    }
   ],
   "source": [
    "with open('queen.txt','rt', encoding='utf-8') as file:    \n",
    "    mega_text = file.read() \n",
    "    parse_gender(mega_text,language = 'ru')"
   ]
  },
  {
   "attachments": {},
   "cell_type": "markdown",
   "metadata": {},
   "source": [
    "мой текст"
   ]
  },
  {
   "cell_type": "code",
   "execution_count": 173,
   "metadata": {},
   "outputs": [
    {
     "name": "stdout",
     "output_type": "stream",
     "text": [
      "4.054626296845226% female (9 sentences)\n",
      "15.138683040440398% male (36 sentences)\n",
      "77.56722422189286% unknow (285 sentences)\n",
      "3.239466440821512% both (7 sentences)\n"
     ]
    }
   ],
   "source": [
    "with open('my_text.txt','rt', encoding='utf-8') as file:    \n",
    "    mega_text = file.read() \n",
    "    parse_gender(mega_text,language = 'ru')"
   ]
  }
 ],
 "metadata": {
  "kernelspec": {
   "display_name": "ML",
   "language": "python",
   "name": "python3"
  },
  "language_info": {
   "codemirror_mode": {
    "name": "ipython",
    "version": 3
   },
   "file_extension": ".py",
   "mimetype": "text/x-python",
   "name": "python",
   "nbconvert_exporter": "python",
   "pygments_lexer": "ipython3",
   "version": "3.10.10"
  },
  "orig_nbformat": 4
 },
 "nbformat": 4,
 "nbformat_minor": 2
}
